{
  "nbformat": 4,
  "nbformat_minor": 0,
  "metadata": {
    "colab": {
      "name": "SQL and Pandas.ipynb",
      "provenance": [],
      "collapsed_sections": [],
      "authorship_tag": "ABX9TyO1AtYOfKhvaIVclkIiIKc0",
      "include_colab_link": true
    },
    "kernelspec": {
      "name": "python3",
      "display_name": "Python 3"
    },
    "language_info": {
      "name": "python"
    }
  },
  "cells": [
    {
      "cell_type": "markdown",
      "metadata": {
        "id": "view-in-github",
        "colab_type": "text"
      },
      "source": [
        "<a href=\"https://colab.research.google.com/github/nadireus/Clarusway/blob/main/SQL_and_Pandas.ipynb\" target=\"_parent\"><img src=\"https://colab.research.google.com/assets/colab-badge.svg\" alt=\"Open In Colab\"/></a>"
      ]
    },
    {
      "cell_type": "code",
      "metadata": {
        "id": "3UAZuN49Q5MR"
      },
      "source": [
        "import pandas as pd\n",
        "import sqlite3"
      ],
      "execution_count": 28,
      "outputs": []
    },
    {
      "cell_type": "code",
      "metadata": {
        "id": "WK30SdrRszcx"
      },
      "source": [
        "data= sqlite3.connect('example.db')"
      ],
      "execution_count": 29,
      "outputs": []
    },
    {
      "cell_type": "code",
      "metadata": {
        "id": "vDIB-h9kvKUm"
      },
      "source": [
        "sql = ''' CREATE TABLE transactions (\n",
        "    Sender_ID int,\n",
        "    Receiver_ID int,\n",
        "    Amount int,\n",
        "    Transaction_Date DATE\n",
        "    \n",
        ");\n",
        "\n",
        "\n",
        "\n",
        "INSERT INTO transactions (Sender_ID, Receiver_ID, Amount, Transaction_Date)\n",
        "VALUES \n",
        "('55','22', '500','18.05.2021'),\n",
        "('11','33', '350','19.05.2021'),\n",
        "('22','11', '650','19.05.2021'),\n",
        "('22','33', '900','20.05.2021'),\n",
        "('33','11', '500','21.05.2021'),\n",
        "('33','22', '750','21.05.2021'),\n",
        "('11','44', '300','22.05.2021');\n",
        " '''"
      ],
      "execution_count": 36,
      "outputs": []
    },
    {
      "cell_type": "code",
      "metadata": {
        "id": "9LNg-abRweKd"
      },
      "source": [
        "cur=data.cursor()"
      ],
      "execution_count": 37,
      "outputs": []
    },
    {
      "cell_type": "code",
      "metadata": {
        "colab": {
          "base_uri": "https://localhost:8080/"
        },
        "id": "UMDUdFdvwAo2",
        "outputId": "7b75df92-e8cf-45d6-8d7b-e63fa1476a3c"
      },
      "source": [
        "cur.executescript(sql)"
      ],
      "execution_count": 38,
      "outputs": [
        {
          "output_type": "execute_result",
          "data": {
            "text/plain": [
              "<sqlite3.Cursor at 0x7fc377ae4d50>"
            ]
          },
          "metadata": {},
          "execution_count": 38
        }
      ]
    },
    {
      "cell_type": "code",
      "metadata": {
        "id": "hFFeecnNwYln"
      },
      "source": [
        "sql = '''select * from transactions '''"
      ],
      "execution_count": 39,
      "outputs": []
    },
    {
      "cell_type": "code",
      "metadata": {
        "colab": {
          "base_uri": "https://localhost:8080/",
          "height": 265
        },
        "id": "EPOb51Wdw98T",
        "outputId": "b4238462-cbbf-438d-87ce-a9ba7af59439"
      },
      "source": [
        "pd.read_sql(sql, data)"
      ],
      "execution_count": 40,
      "outputs": [
        {
          "output_type": "execute_result",
          "data": {
            "text/html": [
              "<div>\n",
              "<style scoped>\n",
              "    .dataframe tbody tr th:only-of-type {\n",
              "        vertical-align: middle;\n",
              "    }\n",
              "\n",
              "    .dataframe tbody tr th {\n",
              "        vertical-align: top;\n",
              "    }\n",
              "\n",
              "    .dataframe thead th {\n",
              "        text-align: right;\n",
              "    }\n",
              "</style>\n",
              "<table border=\"1\" class=\"dataframe\">\n",
              "  <thead>\n",
              "    <tr style=\"text-align: right;\">\n",
              "      <th></th>\n",
              "      <th>Sender_ID</th>\n",
              "      <th>Receiver_ID</th>\n",
              "      <th>Amount</th>\n",
              "      <th>Transaction_Date</th>\n",
              "    </tr>\n",
              "  </thead>\n",
              "  <tbody>\n",
              "    <tr>\n",
              "      <th>0</th>\n",
              "      <td>55</td>\n",
              "      <td>22</td>\n",
              "      <td>500</td>\n",
              "      <td>18.05.2021</td>\n",
              "    </tr>\n",
              "    <tr>\n",
              "      <th>1</th>\n",
              "      <td>11</td>\n",
              "      <td>33</td>\n",
              "      <td>350</td>\n",
              "      <td>19.05.2021</td>\n",
              "    </tr>\n",
              "    <tr>\n",
              "      <th>2</th>\n",
              "      <td>22</td>\n",
              "      <td>11</td>\n",
              "      <td>650</td>\n",
              "      <td>19.05.2021</td>\n",
              "    </tr>\n",
              "    <tr>\n",
              "      <th>3</th>\n",
              "      <td>22</td>\n",
              "      <td>33</td>\n",
              "      <td>900</td>\n",
              "      <td>20.05.2021</td>\n",
              "    </tr>\n",
              "    <tr>\n",
              "      <th>4</th>\n",
              "      <td>33</td>\n",
              "      <td>11</td>\n",
              "      <td>500</td>\n",
              "      <td>21.05.2021</td>\n",
              "    </tr>\n",
              "    <tr>\n",
              "      <th>5</th>\n",
              "      <td>33</td>\n",
              "      <td>22</td>\n",
              "      <td>750</td>\n",
              "      <td>21.05.2021</td>\n",
              "    </tr>\n",
              "    <tr>\n",
              "      <th>6</th>\n",
              "      <td>11</td>\n",
              "      <td>44</td>\n",
              "      <td>300</td>\n",
              "      <td>22.05.2021</td>\n",
              "    </tr>\n",
              "  </tbody>\n",
              "</table>\n",
              "</div>"
            ],
            "text/plain": [
              "   Sender_ID  Receiver_ID  Amount Transaction_Date\n",
              "0         55           22     500       18.05.2021\n",
              "1         11           33     350       19.05.2021\n",
              "2         22           11     650       19.05.2021\n",
              "3         22           33     900       20.05.2021\n",
              "4         33           11     500       21.05.2021\n",
              "5         33           22     750       21.05.2021\n",
              "6         11           44     300       22.05.2021"
            ]
          },
          "metadata": {},
          "execution_count": 40
        }
      ]
    },
    {
      "cell_type": "code",
      "metadata": {
        "id": "Bjidi_UEzYjV"
      },
      "source": [
        "sql = '''SELECT\t*\n",
        "FROM\t(\n",
        "\t\tSELECT\tSender_Id, SUM(amount) AS s_amount\n",
        "\t\tFROM\ttransactions\n",
        "\t\tGROUP BY Sender_Id\n",
        "\t\t) A\n",
        "FULL OUTER JOIN\t\n",
        "\t\t(\n",
        "\t\tSELECT\tReceiver_Id, SUM(amount) AS r_amount\n",
        "\t\tFROM\t\ttransactions\n",
        "\t\tGROUP BY Receiver_Id\n",
        "\t\t) B\n",
        "ON\t\tA.Sender_Id = B.Receiver_Id;\n",
        "'''"
      ],
      "execution_count": 48,
      "outputs": []
    },
    {
      "cell_type": "code",
      "metadata": {
        "colab": {
          "base_uri": "https://localhost:8080/",
          "height": 666
        },
        "id": "hPKmMuul0n6C",
        "outputId": "3a12becc-c6bd-4e9f-fd3f-ee49c3e01a2c"
      },
      "source": [
        "pd.read_sql(sql, data) # FULL OUTER JOIN gives error becouse RIGHT and FULL OUTER JOINs are not currently supported\n",
        "                       # so we need to use LEFT JOIN as below"
      ],
      "execution_count": 49,
      "outputs": [
        {
          "output_type": "error",
          "ename": "DatabaseError",
          "evalue": "ignored",
          "traceback": [
            "\u001b[0;31m---------------------------------------------------------------------------\u001b[0m",
            "\u001b[0;31mOperationalError\u001b[0m                          Traceback (most recent call last)",
            "\u001b[0;32m/usr/local/lib/python3.7/dist-packages/pandas/io/sql.py\u001b[0m in \u001b[0;36mexecute\u001b[0;34m(self, *args, **kwargs)\u001b[0m\n\u001b[1;32m   1680\u001b[0m         \u001b[0;32mtry\u001b[0m\u001b[0;34m:\u001b[0m\u001b[0;34m\u001b[0m\u001b[0;34m\u001b[0m\u001b[0m\n\u001b[0;32m-> 1681\u001b[0;31m             \u001b[0mcur\u001b[0m\u001b[0;34m.\u001b[0m\u001b[0mexecute\u001b[0m\u001b[0;34m(\u001b[0m\u001b[0;34m*\u001b[0m\u001b[0margs\u001b[0m\u001b[0;34m,\u001b[0m \u001b[0;34m**\u001b[0m\u001b[0mkwargs\u001b[0m\u001b[0;34m)\u001b[0m\u001b[0;34m\u001b[0m\u001b[0;34m\u001b[0m\u001b[0m\n\u001b[0m\u001b[1;32m   1682\u001b[0m             \u001b[0;32mreturn\u001b[0m \u001b[0mcur\u001b[0m\u001b[0;34m\u001b[0m\u001b[0;34m\u001b[0m\u001b[0m\n",
            "\u001b[0;31mOperationalError\u001b[0m: RIGHT and FULL OUTER JOINs are not currently supported",
            "\nThe above exception was the direct cause of the following exception:\n",
            "\u001b[0;31mDatabaseError\u001b[0m                             Traceback (most recent call last)",
            "\u001b[0;32m<ipython-input-49-dae3d3c3c812>\u001b[0m in \u001b[0;36m<module>\u001b[0;34m()\u001b[0m\n\u001b[0;32m----> 1\u001b[0;31m \u001b[0mpd\u001b[0m\u001b[0;34m.\u001b[0m\u001b[0mread_sql\u001b[0m\u001b[0;34m(\u001b[0m\u001b[0msql\u001b[0m\u001b[0;34m,\u001b[0m \u001b[0mdata\u001b[0m\u001b[0;34m)\u001b[0m\u001b[0;34m\u001b[0m\u001b[0;34m\u001b[0m\u001b[0m\n\u001b[0m",
            "\u001b[0;32m/usr/local/lib/python3.7/dist-packages/pandas/io/sql.py\u001b[0m in \u001b[0;36mread_sql\u001b[0;34m(sql, con, index_col, coerce_float, params, parse_dates, columns, chunksize)\u001b[0m\n\u001b[1;32m    487\u001b[0m             \u001b[0mcoerce_float\u001b[0m\u001b[0;34m=\u001b[0m\u001b[0mcoerce_float\u001b[0m\u001b[0;34m,\u001b[0m\u001b[0;34m\u001b[0m\u001b[0;34m\u001b[0m\u001b[0m\n\u001b[1;32m    488\u001b[0m             \u001b[0mparse_dates\u001b[0m\u001b[0;34m=\u001b[0m\u001b[0mparse_dates\u001b[0m\u001b[0;34m,\u001b[0m\u001b[0;34m\u001b[0m\u001b[0;34m\u001b[0m\u001b[0m\n\u001b[0;32m--> 489\u001b[0;31m             \u001b[0mchunksize\u001b[0m\u001b[0;34m=\u001b[0m\u001b[0mchunksize\u001b[0m\u001b[0;34m,\u001b[0m\u001b[0;34m\u001b[0m\u001b[0;34m\u001b[0m\u001b[0m\n\u001b[0m\u001b[1;32m    490\u001b[0m         )\n\u001b[1;32m    491\u001b[0m \u001b[0;34m\u001b[0m\u001b[0m\n",
            "\u001b[0;32m/usr/local/lib/python3.7/dist-packages/pandas/io/sql.py\u001b[0m in \u001b[0;36mread_query\u001b[0;34m(self, sql, index_col, coerce_float, params, parse_dates, chunksize)\u001b[0m\n\u001b[1;32m   1725\u001b[0m \u001b[0;34m\u001b[0m\u001b[0m\n\u001b[1;32m   1726\u001b[0m         \u001b[0margs\u001b[0m \u001b[0;34m=\u001b[0m \u001b[0m_convert_params\u001b[0m\u001b[0;34m(\u001b[0m\u001b[0msql\u001b[0m\u001b[0;34m,\u001b[0m \u001b[0mparams\u001b[0m\u001b[0;34m)\u001b[0m\u001b[0;34m\u001b[0m\u001b[0;34m\u001b[0m\u001b[0m\n\u001b[0;32m-> 1727\u001b[0;31m         \u001b[0mcursor\u001b[0m \u001b[0;34m=\u001b[0m \u001b[0mself\u001b[0m\u001b[0;34m.\u001b[0m\u001b[0mexecute\u001b[0m\u001b[0;34m(\u001b[0m\u001b[0;34m*\u001b[0m\u001b[0margs\u001b[0m\u001b[0;34m)\u001b[0m\u001b[0;34m\u001b[0m\u001b[0;34m\u001b[0m\u001b[0m\n\u001b[0m\u001b[1;32m   1728\u001b[0m         \u001b[0mcolumns\u001b[0m \u001b[0;34m=\u001b[0m \u001b[0;34m[\u001b[0m\u001b[0mcol_desc\u001b[0m\u001b[0;34m[\u001b[0m\u001b[0;36m0\u001b[0m\u001b[0;34m]\u001b[0m \u001b[0;32mfor\u001b[0m \u001b[0mcol_desc\u001b[0m \u001b[0;32min\u001b[0m \u001b[0mcursor\u001b[0m\u001b[0;34m.\u001b[0m\u001b[0mdescription\u001b[0m\u001b[0;34m]\u001b[0m\u001b[0;34m\u001b[0m\u001b[0;34m\u001b[0m\u001b[0m\n\u001b[1;32m   1729\u001b[0m \u001b[0;34m\u001b[0m\u001b[0m\n",
            "\u001b[0;32m/usr/local/lib/python3.7/dist-packages/pandas/io/sql.py\u001b[0m in \u001b[0;36mexecute\u001b[0;34m(self, *args, **kwargs)\u001b[0m\n\u001b[1;32m   1691\u001b[0m \u001b[0;34m\u001b[0m\u001b[0m\n\u001b[1;32m   1692\u001b[0m             \u001b[0mex\u001b[0m \u001b[0;34m=\u001b[0m \u001b[0mDatabaseError\u001b[0m\u001b[0;34m(\u001b[0m\u001b[0;34mf\"Execution failed on sql '{args[0]}': {exc}\"\u001b[0m\u001b[0;34m)\u001b[0m\u001b[0;34m\u001b[0m\u001b[0;34m\u001b[0m\u001b[0m\n\u001b[0;32m-> 1693\u001b[0;31m             \u001b[0;32mraise\u001b[0m \u001b[0mex\u001b[0m \u001b[0;32mfrom\u001b[0m \u001b[0mexc\u001b[0m\u001b[0;34m\u001b[0m\u001b[0;34m\u001b[0m\u001b[0m\n\u001b[0m\u001b[1;32m   1694\u001b[0m \u001b[0;34m\u001b[0m\u001b[0m\n\u001b[1;32m   1695\u001b[0m     \u001b[0;34m@\u001b[0m\u001b[0mstaticmethod\u001b[0m\u001b[0;34m\u001b[0m\u001b[0;34m\u001b[0m\u001b[0m\n",
            "\u001b[0;31mDatabaseError\u001b[0m: Execution failed on sql 'SELECT\t*\nFROM\t(\n\t\tSELECT\tSender_Id, SUM(amount) AS s_amount\n\t\tFROM\ttransactions\n\t\tGROUP BY Sender_Id\n\t\t) A\nFULL OUTER JOIN\t\n\t\t(\n\t\tSELECT\tReceiver_Id, SUM(amount) AS r_amount\n\t\tFROM\t\ttransactions\n\t\tGROUP BY Receiver_Id\n\t\t) B\nON\t\tA.Sender_Id = B.Receiver_Id;\n': RIGHT and FULL OUTER JOINs are not currently supported"
          ]
        }
      ]
    },
    {
      "cell_type": "code",
      "metadata": {
        "id": "QRZ0nf8t0n_Y"
      },
      "source": [
        "sql = '''SELECT\t*\n",
        "FROM\t(\n",
        "\t\tSELECT\tSender_Id, SUM(amount) AS s_amount\n",
        "\t\tFROM\ttransactions\n",
        "\t\tGROUP BY Sender_Id\n",
        "\t\t) A\n",
        "LEFT JOIN\t\n",
        "\t\t(\n",
        "\t\tSELECT\tReceiver_Id, SUM(amount) AS r_amount\n",
        "\t\tFROM\t\ttransactions\n",
        "\t\tGROUP BY Receiver_Id\n",
        "\t\t) B\n",
        "ON\t\tA.Sender_Id = B.Receiver_Id\n",
        "\n",
        "UNION ALL\n",
        "SELECT\t*\n",
        "FROM  (\n",
        "\t\tSELECT\tReceiver_Id, SUM(amount) AS r_amount\n",
        "\t\tFROM\t\ttransactions\n",
        "\t\tGROUP BY Receiver_Id\n",
        "\t\t) B\n",
        "LEFT JOIN\t(\n",
        "\t\tSELECT\tSender_Id, SUM(amount) AS s_amount\n",
        "\t\tFROM\ttransactions\n",
        "\t\tGROUP BY Sender_Id\n",
        "\t\t) A\n",
        "ON\t\tA.Sender_Id = B.Receiver_Id;\n",
        "'''\n",
        "\n"
      ],
      "execution_count": 50,
      "outputs": []
    },
    {
      "cell_type": "code",
      "metadata": {
        "colab": {
          "base_uri": "https://localhost:8080/",
          "height": 295
        },
        "id": "Uj6GEWI00oBp",
        "outputId": "da6e6268-b92b-4e58-ed32-cfac7afe2c78"
      },
      "source": [
        "pd.read_sql(sql, data)"
      ],
      "execution_count": 51,
      "outputs": [
        {
          "output_type": "execute_result",
          "data": {
            "text/html": [
              "<div>\n",
              "<style scoped>\n",
              "    .dataframe tbody tr th:only-of-type {\n",
              "        vertical-align: middle;\n",
              "    }\n",
              "\n",
              "    .dataframe tbody tr th {\n",
              "        vertical-align: top;\n",
              "    }\n",
              "\n",
              "    .dataframe thead th {\n",
              "        text-align: right;\n",
              "    }\n",
              "</style>\n",
              "<table border=\"1\" class=\"dataframe\">\n",
              "  <thead>\n",
              "    <tr style=\"text-align: right;\">\n",
              "      <th></th>\n",
              "      <th>Sender_Id</th>\n",
              "      <th>s_amount</th>\n",
              "      <th>Receiver_Id</th>\n",
              "      <th>r_amount</th>\n",
              "    </tr>\n",
              "  </thead>\n",
              "  <tbody>\n",
              "    <tr>\n",
              "      <th>0</th>\n",
              "      <td>11</td>\n",
              "      <td>650</td>\n",
              "      <td>11.0</td>\n",
              "      <td>1150.0</td>\n",
              "    </tr>\n",
              "    <tr>\n",
              "      <th>1</th>\n",
              "      <td>22</td>\n",
              "      <td>1550</td>\n",
              "      <td>22.0</td>\n",
              "      <td>1250.0</td>\n",
              "    </tr>\n",
              "    <tr>\n",
              "      <th>2</th>\n",
              "      <td>33</td>\n",
              "      <td>1250</td>\n",
              "      <td>33.0</td>\n",
              "      <td>1250.0</td>\n",
              "    </tr>\n",
              "    <tr>\n",
              "      <th>3</th>\n",
              "      <td>55</td>\n",
              "      <td>500</td>\n",
              "      <td>NaN</td>\n",
              "      <td>NaN</td>\n",
              "    </tr>\n",
              "    <tr>\n",
              "      <th>4</th>\n",
              "      <td>11</td>\n",
              "      <td>1150</td>\n",
              "      <td>11.0</td>\n",
              "      <td>650.0</td>\n",
              "    </tr>\n",
              "    <tr>\n",
              "      <th>5</th>\n",
              "      <td>22</td>\n",
              "      <td>1250</td>\n",
              "      <td>22.0</td>\n",
              "      <td>1550.0</td>\n",
              "    </tr>\n",
              "    <tr>\n",
              "      <th>6</th>\n",
              "      <td>33</td>\n",
              "      <td>1250</td>\n",
              "      <td>33.0</td>\n",
              "      <td>1250.0</td>\n",
              "    </tr>\n",
              "    <tr>\n",
              "      <th>7</th>\n",
              "      <td>44</td>\n",
              "      <td>300</td>\n",
              "      <td>NaN</td>\n",
              "      <td>NaN</td>\n",
              "    </tr>\n",
              "  </tbody>\n",
              "</table>\n",
              "</div>"
            ],
            "text/plain": [
              "   Sender_Id  s_amount  Receiver_Id  r_amount\n",
              "0         11       650         11.0    1150.0\n",
              "1         22      1550         22.0    1250.0\n",
              "2         33      1250         33.0    1250.0\n",
              "3         55       500          NaN       NaN\n",
              "4         11      1150         11.0     650.0\n",
              "5         22      1250         22.0    1550.0\n",
              "6         33      1250         33.0    1250.0\n",
              "7         44       300          NaN       NaN"
            ]
          },
          "metadata": {},
          "execution_count": 51
        }
      ]
    },
    {
      "cell_type": "code",
      "metadata": {
        "id": "TDjd7Mpp3v8G"
      },
      "source": [
        "sql = '''SELECT\tCOALESCE(A.sender_id, B.receiver_id) AS Account_ID,\n",
        "\t\t            COALESCE(B.r_amount, 0) - COALESCE(A.s_amount, 0) AS Net_Change\n",
        "FROM\t(\n",
        "\t\tSELECT\tSender_Id, SUM(amount) AS s_amount\n",
        "\t\tFROM\ttransactions\n",
        "\t\tGROUP BY Sender_Id\n",
        "\t\t) A\n",
        "LEFT JOIN\t\n",
        "\t\t(\n",
        "\t\tSELECT\tReceiver_Id, SUM(amount) AS r_amount\n",
        "\t\tFROM\t\ttransactions\n",
        "\t\tGROUP BY Receiver_Id\n",
        "\t\t) B\n",
        "ON\t\tA.Sender_Id = B.Receiver_Id\n",
        "\n",
        "UNION ALL\n",
        "SELECT\tCOALESCE(A.sender_id, B.receiver_id) AS Account_ID,\n",
        "\t\t    COALESCE(B.r_amount, 0) - COALESCE(A.s_amount, 0) AS Net_Change\n",
        "FROM  (\n",
        "\t\tSELECT\tReceiver_Id, SUM(amount) AS r_amount\n",
        "\t\tFROM\t\ttransactions\n",
        "\t\tGROUP BY Receiver_Id\n",
        "\t\t) B\n",
        "LEFT JOIN\t(\n",
        "\t\tSELECT\tSender_Id, SUM(amount) AS s_amount\n",
        "\t\tFROM\ttransactions\n",
        "\t\tGROUP BY Sender_Id\n",
        "\t\t) A\n",
        "ON\t\tA.Sender_Id = B.Receiver_Id\n",
        "WHERE  A.Sender_Id  IS NULL\n",
        ";\n",
        "'''"
      ],
      "execution_count": 66,
      "outputs": []
    },
    {
      "cell_type": "code",
      "metadata": {
        "colab": {
          "base_uri": "https://localhost:8080/",
          "height": 203
        },
        "id": "cF_baGbO4JVb",
        "outputId": "b12a3ee8-0bb6-4276-c8d4-0bbff374677a"
      },
      "source": [
        "pd.read_sql(sql, data)"
      ],
      "execution_count": 67,
      "outputs": [
        {
          "output_type": "execute_result",
          "data": {
            "text/html": [
              "<div>\n",
              "<style scoped>\n",
              "    .dataframe tbody tr th:only-of-type {\n",
              "        vertical-align: middle;\n",
              "    }\n",
              "\n",
              "    .dataframe tbody tr th {\n",
              "        vertical-align: top;\n",
              "    }\n",
              "\n",
              "    .dataframe thead th {\n",
              "        text-align: right;\n",
              "    }\n",
              "</style>\n",
              "<table border=\"1\" class=\"dataframe\">\n",
              "  <thead>\n",
              "    <tr style=\"text-align: right;\">\n",
              "      <th></th>\n",
              "      <th>Account_ID</th>\n",
              "      <th>Net_Change</th>\n",
              "    </tr>\n",
              "  </thead>\n",
              "  <tbody>\n",
              "    <tr>\n",
              "      <th>0</th>\n",
              "      <td>11</td>\n",
              "      <td>500</td>\n",
              "    </tr>\n",
              "    <tr>\n",
              "      <th>1</th>\n",
              "      <td>22</td>\n",
              "      <td>-300</td>\n",
              "    </tr>\n",
              "    <tr>\n",
              "      <th>2</th>\n",
              "      <td>33</td>\n",
              "      <td>0</td>\n",
              "    </tr>\n",
              "    <tr>\n",
              "      <th>3</th>\n",
              "      <td>55</td>\n",
              "      <td>-500</td>\n",
              "    </tr>\n",
              "    <tr>\n",
              "      <th>4</th>\n",
              "      <td>44</td>\n",
              "      <td>300</td>\n",
              "    </tr>\n",
              "  </tbody>\n",
              "</table>\n",
              "</div>"
            ],
            "text/plain": [
              "   Account_ID  Net_Change\n",
              "0          11         500\n",
              "1          22        -300\n",
              "2          33           0\n",
              "3          55        -500\n",
              "4          44         300"
            ]
          },
          "metadata": {},
          "execution_count": 67
        }
      ]
    },
    {
      "cell_type": "code",
      "metadata": {
        "id": "CTNcGfjw5Sey"
      },
      "source": [
        "sql = '''SELECT\tCOALESCE(A.sender_id, B.receiver_id) AS Account_ID,\n",
        "\t\t            COALESCE(B.r_amount, 0) - COALESCE(A.s_amount, 0) AS Net_Change\n",
        "FROM\t(\n",
        "\t\tSELECT\tSender_Id, SUM(amount) AS s_amount\n",
        "\t\tFROM\ttransactions\n",
        "\t\tGROUP BY Sender_Id\n",
        "\t\t) A\n",
        "LEFT JOIN\t\n",
        "\t\t(\n",
        "\t\tSELECT\tReceiver_Id, SUM(amount) AS r_amount\n",
        "\t\tFROM\t\ttransactions\n",
        "\t\tGROUP BY Receiver_Id\n",
        "\t\t) B\n",
        "ON\t\tA.Sender_Id = B.Receiver_Id\n",
        "\n",
        "UNION ALL\n",
        "SELECT\tCOALESCE(A.sender_id, B.receiver_id) AS Account_ID,\n",
        "\t\t    COALESCE(B.r_amount, 0) - COALESCE(A.s_amount, 0) AS Net_Change\n",
        "FROM  (\n",
        "\t\tSELECT\tReceiver_Id, SUM(amount) AS r_amount\n",
        "\t\tFROM\t\ttransactions\n",
        "\t\tGROUP BY Receiver_Id\n",
        "\t\t) B\n",
        "LEFT JOIN\t(\n",
        "\t\tSELECT\tSender_Id, SUM(amount) AS s_amount\n",
        "\t\tFROM\ttransactions\n",
        "\t\tGROUP BY Sender_Id\n",
        "\t\t) A\n",
        "ON\t\tA.Sender_Id = B.Receiver_Id\n",
        "WHERE  A.Sender_Id  IS  NULL\n",
        "ORDER BY Net_Change DESC\n",
        ";\n",
        "'''"
      ],
      "execution_count": 68,
      "outputs": []
    },
    {
      "cell_type": "code",
      "metadata": {
        "colab": {
          "base_uri": "https://localhost:8080/",
          "height": 203
        },
        "id": "Xaeds4fu5UVc",
        "outputId": "f6dcc703-bf15-46e2-ca79-6f27e4e9352b"
      },
      "source": [
        "pd.read_sql(sql, data)"
      ],
      "execution_count": 69,
      "outputs": [
        {
          "output_type": "execute_result",
          "data": {
            "text/html": [
              "<div>\n",
              "<style scoped>\n",
              "    .dataframe tbody tr th:only-of-type {\n",
              "        vertical-align: middle;\n",
              "    }\n",
              "\n",
              "    .dataframe tbody tr th {\n",
              "        vertical-align: top;\n",
              "    }\n",
              "\n",
              "    .dataframe thead th {\n",
              "        text-align: right;\n",
              "    }\n",
              "</style>\n",
              "<table border=\"1\" class=\"dataframe\">\n",
              "  <thead>\n",
              "    <tr style=\"text-align: right;\">\n",
              "      <th></th>\n",
              "      <th>Account_ID</th>\n",
              "      <th>Net_Change</th>\n",
              "    </tr>\n",
              "  </thead>\n",
              "  <tbody>\n",
              "    <tr>\n",
              "      <th>0</th>\n",
              "      <td>11</td>\n",
              "      <td>500</td>\n",
              "    </tr>\n",
              "    <tr>\n",
              "      <th>1</th>\n",
              "      <td>44</td>\n",
              "      <td>300</td>\n",
              "    </tr>\n",
              "    <tr>\n",
              "      <th>2</th>\n",
              "      <td>33</td>\n",
              "      <td>0</td>\n",
              "    </tr>\n",
              "    <tr>\n",
              "      <th>3</th>\n",
              "      <td>22</td>\n",
              "      <td>-300</td>\n",
              "    </tr>\n",
              "    <tr>\n",
              "      <th>4</th>\n",
              "      <td>55</td>\n",
              "      <td>-500</td>\n",
              "    </tr>\n",
              "  </tbody>\n",
              "</table>\n",
              "</div>"
            ],
            "text/plain": [
              "   Account_ID  Net_Change\n",
              "0          11         500\n",
              "1          44         300\n",
              "2          33           0\n",
              "3          22        -300\n",
              "4          55        -500"
            ]
          },
          "metadata": {},
          "execution_count": 69
        }
      ]
    }
  ]
}
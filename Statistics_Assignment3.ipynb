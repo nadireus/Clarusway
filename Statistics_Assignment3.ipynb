{
  "nbformat": 4,
  "nbformat_minor": 0,
  "metadata": {
    "colab": {
      "name": "Statistics-Assignment3.ipynb",
      "provenance": [],
      "authorship_tag": "ABX9TyOTAhVx1ziHJw2Q4FbAr8nH",
      "include_colab_link": true
    },
    "kernelspec": {
      "name": "python3",
      "display_name": "Python 3"
    },
    "language_info": {
      "name": "python"
    }
  },
  "cells": [
    {
      "cell_type": "markdown",
      "metadata": {
        "id": "view-in-github",
        "colab_type": "text"
      },
      "source": [
        "<a href=\"https://colab.research.google.com/github/nadireus/Clarusway/blob/main/Statistics_Assignment3.ipynb\" target=\"_parent\"><img src=\"https://colab.research.google.com/assets/colab-badge.svg\" alt=\"Open In Colab\"/></a>"
      ]
    },
    {
      "cell_type": "code",
      "metadata": {
        "id": "y5j43VIvoVgV"
      },
      "source": [
        "import pandas as pd"
      ],
      "execution_count": 1,
      "outputs": []
    },
    {
      "cell_type": "code",
      "metadata": {
        "id": "wT-KWbjdonBO"
      },
      "source": [
        "import matplotlib.pyplot as plt\n",
        "import seaborn as sns\n",
        "sns.set()"
      ],
      "execution_count": 2,
      "outputs": []
    },
    {
      "cell_type": "markdown",
      "metadata": {
        "id": "6O9GH4_qmRmx"
      },
      "source": [
        "#EXERCISE 1. \n",
        "##Answer the following questions by calculating the number of ways of obtaining particular arrangements of objects and events.\n",
        "\n",
        "An athlete has eight different trophies, but only has room for four trophies in a display cabinet. How many different ways is it possible to display just four trophies out of eight,  assuming that the display order is important?\n"
      ]
    },
    {
      "cell_type": "code",
      "metadata": {
        "colab": {
          "base_uri": "https://localhost:8080/"
        },
        "id": "iAD55sAjwbzL",
        "outputId": "d7bfe709-0d47-4308-a78e-ecbb51a8d53a"
      },
      "source": [
        "from scipy.special import perm\n",
        "my_permute = perm(8, 4, exact = True)\n",
        "print(\"The permutation of 8 and 4 is \")\n",
        "print(my_permute)"
      ],
      "execution_count": 13,
      "outputs": [
        {
          "output_type": "stream",
          "name": "stdout",
          "text": [
            "The permutation of 8 and 4 is \n",
            "1680\n"
          ]
        }
      ]
    },
    {
      "cell_type": "code",
      "metadata": {
        "id": "4FdUnq9vmJ88"
      },
      "source": [
        "from itertools import permutations\n",
        "\n"
      ],
      "execution_count": 10,
      "outputs": []
    },
    {
      "cell_type": "markdown",
      "metadata": {
        "id": "8guHJ7w0me9G"
      },
      "source": [
        "A football manager has a squad of 20 players. How many different teams of 11 players could be selected from the squad? (Hint: Assume that positions of the players are not important)"
      ]
    },
    {
      "cell_type": "code",
      "metadata": {
        "colab": {
          "base_uri": "https://localhost:8080/"
        },
        "id": "5ZoikzjQmema",
        "outputId": "c99874a7-faca-432d-8567-a5bf26f40a26"
      },
      "source": [
        "from scipy.special import comb\n",
        "my_comb = comb(20, 11, exact = True)\n",
        "print(\"The combination of 20 and 11 is \")\n",
        "print(my_comb)"
      ],
      "execution_count": 14,
      "outputs": [
        {
          "output_type": "stream",
          "name": "stdout",
          "text": [
            "The combination of 20 and 11 is \n",
            "167960\n"
          ]
        }
      ]
    },
    {
      "cell_type": "markdown",
      "metadata": {
        "id": "g-96Wz5sm9Xy"
      },
      "source": [
        "#EXERCISE 2. \n",
        "##Are people happy in their marriages? The table shows results from the 2008 General Social Survey for married adults classified by gender and  level of happiness.\n"
      ]
    },
    {
      "cell_type": "markdown",
      "metadata": {
        "id": "9JQ3R7gjmjKZ"
      },
      "source": [
        "![image.png](data:image/png;base64,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)"
      ]
    },
    {
      "cell_type": "markdown",
      "metadata": {
        "id": "c78P-SH1nF05"
      },
      "source": [
        "1-Estimate the probability that a married adult is very happy."
      ]
    },
    {
      "cell_type": "code",
      "metadata": {
        "colab": {
          "base_uri": "https://localhost:8080/"
        },
        "id": "Rdu27PlUmD5l",
        "outputId": "b5e358f0-f2f5-47d4-cba6-b1038c2333b5"
      },
      "source": [
        "very_happy_couples_prob= 398/969\n",
        "very_happy_couples_prob"
      ],
      "execution_count": 17,
      "outputs": [
        {
          "output_type": "execute_result",
          "data": {
            "text/plain": [
              "0.4107327141382869"
            ]
          },
          "metadata": {},
          "execution_count": 17
        }
      ]
    },
    {
      "cell_type": "markdown",
      "metadata": {
        "id": "aC2oFdTOnL86"
      },
      "source": [
        "2-Estimate the probability that a married adult is very happy,\n",
        "\n",
        "(i) given that their gender is male and\n",
        "\n",
        "(ii) given that their gender is female."
      ]
    },
    {
      "cell_type": "code",
      "metadata": {
        "id": "hoRTGHuZnK2T"
      },
      "source": [
        "very_happy_couples_prob_female=215/969\n",
        "very_happy_couples_prob_male= 183/969"
      ],
      "execution_count": 18,
      "outputs": []
    },
    {
      "cell_type": "markdown",
      "metadata": {
        "id": "x1bKM1QKnj4V"
      },
      "source": [
        "3-For these subjects, are the events being very happy and being a male independent?"
      ]
    },
    {
      "cell_type": "code",
      "metadata": {
        "id": "Ip1rzOMZnK-p"
      },
      "source": [
        "yes they are independent events"
      ],
      "execution_count": null,
      "outputs": []
    },
    {
      "cell_type": "markdown",
      "metadata": {
        "id": "sRJUmKNonuOq"
      },
      "source": [
        "#EXERCISE 3. \n",
        "The Triple Blood Test screens a pregnant woman and provides as estimated risk of her baby being born with the genetic disorder Down syndrome. A study of 5282 women aged 35 or over analyzed the Triple Blood Test to test its accuracy.\n",
        "A contingency table for Triple Blood Test of Down syndrome shown below.\n"
      ]
    },
    {
      "cell_type": "markdown",
      "metadata": {
        "id": "MxggsoUnnxw8"
      },
      "source": [
        "![image.png](data:image/png;base64,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)"
      ]
    },
    {
      "cell_type": "markdown",
      "metadata": {
        "id": "AnaDQ8Epn8dF"
      },
      "source": [
        "1-Given that a test result is negative, show that the probability the fetus actually has Down syndrome is P(D | NEG) = 0.0015."
      ]
    },
    {
      "cell_type": "code",
      "metadata": {
        "colab": {
          "base_uri": "https://localhost:8080/"
        },
        "id": "_0t96GXynLB6",
        "outputId": "980fd36e-cde6-4ae9-8d45-d3a0e28858e2"
      },
      "source": [
        "#P(NEGnD) = 6\n",
        "#P(NEG) = 3927\n",
        "#P(D | NEG) =P(NEGnD)/P(NEG)\n",
        "negative_but_down_prob=6/3927\n",
        "negative_but_down_prob"
      ],
      "execution_count": 27,
      "outputs": [
        {
          "output_type": "execute_result",
          "data": {
            "text/plain": [
              "0.0015278838808250573"
            ]
          },
          "metadata": {},
          "execution_count": 27
        }
      ]
    },
    {
      "cell_type": "markdown",
      "metadata": {
        "id": "PCfMVwevoA-o"
      },
      "source": [
        "2-Is P(D | NEG) equal to P(NEG | D)? If so, explain why. If not, find P(NEG | D)."
      ]
    },
    {
      "cell_type": "code",
      "metadata": {
        "colab": {
          "base_uri": "https://localhost:8080/"
        },
        "id": "3QDV1K4OoOHH",
        "outputId": "81af3c4c-e08d-4c7a-ab54-5272490cc5c7"
      },
      "source": [
        "#P(NEGnD) = 6\n",
        "#P(D) = 54\n",
        "#P( NEG | D) =P(NEGnD)/P(D)\n",
        "\n",
        "down_prob_negative= 6/54 \n",
        "down_prob_negative"
      ],
      "execution_count": 30,
      "outputs": [
        {
          "output_type": "execute_result",
          "data": {
            "text/plain": [
              "0.1111111111111111"
            ]
          },
          "metadata": {},
          "execution_count": 30
        }
      ]
    },
    {
      "cell_type": "markdown",
      "metadata": {
        "id": "tkFkM7SpoGt1"
      },
      "source": [
        "#EXERCISE 4. \n",
        "##Males and females are observed to react differently to a given set of circumstances. It has been observed that 70% of the females react positively to these circumstances, whereas only 40% of males react positively -. A group of 20 people, 15 female and 5 male, was subjected to these circumstances, and the subjects were asked to describe their reactions on a written questionnaire. A response picked at random from the 20 was negative. What is the probability that it was that of a male? \n"
      ]
    },
    {
      "cell_type": "markdown",
      "metadata": {
        "id": "yMMPknud70Z7"
      },
      "source": [
        "## P= postove response\n",
        "## M= males response\n",
        "## F= females response\n",
        "P(P|M)=0.4\n",
        "\n",
        "P(P|F)=0.7\n",
        "\n",
        "P(M)=5/20=0.25\n",
        "\n",
        "P(F)=15/20=0.6\n",
        "\n",
        "P(PnF)=P(P|F)*P(F)\n",
        "\n",
        "P(PnM)=P(P|M)*P(M)\n",
        "\n",
        "total postive =P(PnF)+P(PnM)\n",
        "\n",
        "total negative =P(N|M)P(M) + P(N|F)P(F)\n",
        "\n",
        "P(M|N) = P(N|P(M))/(P(N|M)P(M) + P(N|F)P(F))=(0.6*0.25)/0.6*0.25+0.3*0.75= 0.4"
      ]
    },
    {
      "cell_type": "code",
      "metadata": {
        "id": "PWvHILjenLIT"
      },
      "source": [
        ""
      ],
      "execution_count": null,
      "outputs": []
    }
  ]
}
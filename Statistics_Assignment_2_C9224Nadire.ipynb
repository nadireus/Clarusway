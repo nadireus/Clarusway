{
  "nbformat": 4,
  "nbformat_minor": 0,
  "metadata": {
    "colab": {
      "name": "Statistics_Assignment_2-C9224Nadire.ipynb",
      "provenance": [],
      "collapsed_sections": [],
      "include_colab_link": true
    },
    "kernelspec": {
      "name": "python3",
      "display_name": "Python 3"
    }
  },
  "cells": [
    {
      "cell_type": "markdown",
      "metadata": {
        "id": "view-in-github",
        "colab_type": "text"
      },
      "source": [
        "<a href=\"https://colab.research.google.com/github/nadireus/Clarusway/blob/main/Statistics_Assignment_2_C9224Nadire.ipynb\" target=\"_parent\"><img src=\"https://colab.research.google.com/assets/colab-badge.svg\" alt=\"Open In Colab\"/></a>"
      ]
    },
    {
      "cell_type": "markdown",
      "metadata": {
        "id": "K7S4cEyZLTp7"
      },
      "source": [
        "## Descriptive Statistics"
      ]
    },
    {
      "cell_type": "code",
      "metadata": {
        "id": "CCZJzVnVT8bw"
      },
      "source": [
        ""
      ],
      "execution_count": null,
      "outputs": []
    },
    {
      "cell_type": "markdown",
      "metadata": {
        "id": "vZRYVyc8H7hi"
      },
      "source": [
        " Import **NumPy**, **SciPy**, and **Pandas**"
      ]
    },
    {
      "cell_type": "code",
      "metadata": {
        "id": "7ShN0klrHIk3"
      },
      "source": [
        "import numpy as np\n",
        "import pandas as pd\n",
        "import scipy.stats\n",
        "from scipy import stats"
      ],
      "execution_count": 25,
      "outputs": []
    },
    {
      "cell_type": "markdown",
      "metadata": {
        "id": "_SaQURIqIA6d"
      },
      "source": [
        " Randomly generate 1,000 samples from the normal distribution using `np.random.normal()`(mean = 100, standard deviation = 15)"
      ]
    },
    {
      "cell_type": "code",
      "metadata": {
        "id": "_0MFrZluj86W"
      },
      "source": [
        "\n",
        "samples=np.random.normal(100, 15, 1000)\n"
      ],
      "execution_count": 4,
      "outputs": []
    },
    {
      "cell_type": "markdown",
      "metadata": {
        "id": "CDF8m3a4IYOC"
      },
      "source": [
        "Compute the **mean**, **median**, and **mode**"
      ]
    },
    {
      "cell_type": "code",
      "metadata": {
        "id": "ZKbeqxaKIoNs",
        "colab": {
          "base_uri": "https://localhost:8080/"
        },
        "outputId": "1593f105-433a-4739-d7b4-ea93c1569605"
      },
      "source": [
        "mean =np.mean(samples)\n",
        "median =np.median(samples)\n",
        "mode =stats.mode(samples)\n",
        "print(f\"mean = {mean}\")\n",
        "print(f\"median = {median}\")\n",
        "print(f\"mode = {mode}\")"
      ],
      "execution_count": 15,
      "outputs": [
        {
          "output_type": "stream",
          "name": "stdout",
          "text": [
            "mean = 99.75526589266966\n",
            "median = 100.0946175488269\n",
            "mode = ModeResult(mode=array([50.1641704]), count=array([1]))\n"
          ]
        }
      ]
    },
    {
      "cell_type": "markdown",
      "metadata": {
        "id": "skT8m39XI60w"
      },
      "source": [
        "Compute the **min**, **max**, **Q1**, **Q3**, and **interquartile range**"
      ]
    },
    {
      "cell_type": "code",
      "metadata": {
        "id": "VaiDphm8It0O",
        "colab": {
          "base_uri": "https://localhost:8080/"
        },
        "outputId": "7c401f68-d77a-4f81-f422-c4ac423b5b27"
      },
      "source": [
        "min = np.min(samples)\n",
        "max =np.max(samples)\n",
        "q1 = np.percentile(samples, 25, interpolation = 'midpoint')\n",
        "q3 = np.percentile(samples, 75, interpolation = 'midpoint')\n",
        "iqr =q3-q1\n",
        "\n",
        "print(f\" min = {min}, max= {max}, q1= {q1}, q3= {q3}, iqr= {iqr}\")"
      ],
      "execution_count": 17,
      "outputs": [
        {
          "output_type": "stream",
          "name": "stdout",
          "text": [
            " min = 50.164170395388595, max= 139.0721424151618, q1= 89.97089438369562, q3= 109.0268380328174, iqr= 19.055943649121772\n"
          ]
        }
      ]
    },
    {
      "cell_type": "code",
      "metadata": {
        "colab": {
          "base_uri": "https://localhost:8080/"
        },
        "id": "9Tkf9siItqTw",
        "outputId": "a67c23d7-1945-41d3-a333-0fc3be1fd208"
      },
      "source": [
        "iqr_2way = stats.iqr(samples)\n",
        "iqr_2way"
      ],
      "execution_count": 20,
      "outputs": [
        {
          "output_type": "execute_result",
          "data": {
            "text/plain": [
              "19.024345710960162"
            ]
          },
          "metadata": {},
          "execution_count": 20
        }
      ]
    },
    {
      "cell_type": "markdown",
      "metadata": {
        "id": "m53Dv3n5JHQi"
      },
      "source": [
        "Compute the **variance** and **standard deviation**"
      ]
    },
    {
      "cell_type": "code",
      "metadata": {
        "id": "6JFaAYdrJbeN"
      },
      "source": [
        "variance = np.var(samples)\n",
        "std_dev =np.std(samples)"
      ],
      "execution_count": 18,
      "outputs": []
    },
    {
      "cell_type": "markdown",
      "metadata": {
        "id": "5eup4hI1JzqX"
      },
      "source": [
        "Compute the **skewness** and **kurtosis**"
      ]
    },
    {
      "cell_type": "code",
      "metadata": {
        "id": "YO3obyDnJ3_D",
        "colab": {
          "base_uri": "https://localhost:8080/"
        },
        "outputId": "fe41d233-e2b6-452a-d1d4-67e0831f3021"
      },
      "source": [
        "skewness =stats.skew(samples)\n",
        "kurtosis =stats.kurtosis(samples)\n",
        "print(f\" skewness = {skewness}, kurtosis= {kurtosis}\")"
      ],
      "execution_count": 22,
      "outputs": [
        {
          "output_type": "stream",
          "name": "stdout",
          "text": [
            " skewness = -0.13531004433659277, kurtosis= -0.10956365854966421\n"
          ]
        }
      ]
    },
    {
      "cell_type": "markdown",
      "metadata": {
        "id": "a5UNc8PUKnbU"
      },
      "source": [
        "## NumPy Correlation Calculation"
      ]
    },
    {
      "cell_type": "markdown",
      "metadata": {
        "id": "cLiqxE1CMNTg"
      },
      "source": [
        "Create an array x of integers between 10 (inclusive) and 20 (exclusive). Use `np.arange()`"
      ]
    },
    {
      "cell_type": "code",
      "metadata": {
        "id": "5LAaQ6w5L-2L",
        "colab": {
          "base_uri": "https://localhost:8080/"
        },
        "outputId": "549a0edf-48f8-46cd-ac34-b3130b40b1f5"
      },
      "source": [
        "x = np.arange(10, 20)\n",
        "x"
      ],
      "execution_count": 5,
      "outputs": [
        {
          "output_type": "execute_result",
          "data": {
            "text/plain": [
              "array([10, 11, 12, 13, 14, 15, 16, 17, 18, 19])"
            ]
          },
          "metadata": {},
          "execution_count": 5
        }
      ]
    },
    {
      "cell_type": "markdown",
      "metadata": {
        "id": "qyCIaukNMZPf"
      },
      "source": [
        "Then use `np.array()` to create a second array y containing 10 arbitrary integers."
      ]
    },
    {
      "cell_type": "code",
      "metadata": {
        "id": "p27eW__gNMdh",
        "colab": {
          "base_uri": "https://localhost:8080/"
        },
        "outputId": "26aca61c-a95f-4a2f-bc14-7a92427aedec"
      },
      "source": [
        "y = np.array(np.mat('1 2 3 4 5 6 7 8 9 10'))\n",
        "y"
      ],
      "execution_count": 4,
      "outputs": [
        {
          "output_type": "execute_result",
          "data": {
            "text/plain": [
              "array([[ 1,  2,  3,  4,  5,  6,  7,  8,  9, 10]])"
            ]
          },
          "metadata": {},
          "execution_count": 4
        }
      ]
    },
    {
      "cell_type": "markdown",
      "metadata": {
        "id": "Kh_VeKwINSqS"
      },
      "source": [
        "Once you have two arrays of the same length, you can compute the **correlation coefficient** between x and y"
      ]
    },
    {
      "cell_type": "code",
      "metadata": {
        "id": "yrtC6rPkNSDC",
        "colab": {
          "base_uri": "https://localhost:8080/"
        },
        "outputId": "609109f2-7e96-47a5-da2f-23354a28c0b5"
      },
      "source": [
        "r = np.corrcoef(x,y)\n",
        "r"
      ],
      "execution_count": 7,
      "outputs": [
        {
          "output_type": "execute_result",
          "data": {
            "text/plain": [
              "array([[1., 1.],\n",
              "       [1., 1.]])"
            ]
          },
          "metadata": {},
          "execution_count": 7
        }
      ]
    },
    {
      "cell_type": "markdown",
      "metadata": {
        "id": "vXieLjYiNtPi"
      },
      "source": [
        "## Pandas Correlation Calculation"
      ]
    },
    {
      "cell_type": "markdown",
      "metadata": {
        "id": "z56t0k0qNvkr"
      },
      "source": [
        "Run the code below"
      ]
    },
    {
      "cell_type": "code",
      "metadata": {
        "id": "9AVBMJCyNuwb"
      },
      "source": [
        "x = pd.Series(range(10, 20))\n",
        "y = pd.Series([2, 1, 4, 5, 8, 12, 18, 25, 96, 48])"
      ],
      "execution_count": 8,
      "outputs": []
    },
    {
      "cell_type": "code",
      "metadata": {
        "id": "hKgkhrqiegNo"
      },
      "source": [
        "xy = pd.DataFrame({'x-values': x, 'y-values': y})"
      ],
      "execution_count": 9,
      "outputs": []
    },
    {
      "cell_type": "markdown",
      "metadata": {
        "id": "ZajVXYe2OCih"
      },
      "source": [
        "Call the relevant method  to calculate Pearson's r correlation."
      ]
    },
    {
      "cell_type": "code",
      "metadata": {
        "id": "Ak_rkzbLOafj",
        "colab": {
          "base_uri": "https://localhost:8080/"
        },
        "outputId": "c55a17b8-4b88-4c88-c80c-b7d54c70e830"
      },
      "source": [
        "r =x.corr(y)\n",
        "r"
      ],
      "execution_count": 11,
      "outputs": [
        {
          "output_type": "execute_result",
          "data": {
            "text/plain": [
              "0.7586402890911867"
            ]
          },
          "metadata": {},
          "execution_count": 11
        }
      ]
    },
    {
      "cell_type": "code",
      "metadata": {
        "colab": {
          "base_uri": "https://localhost:8080/",
          "height": 110
        },
        "id": "jBPo7puNe6Um",
        "outputId": "3bd56319-218b-4b91-fb74-73cd844bd3d2"
      },
      "source": [
        "corr_matrix = xy.corr()\n",
        "corr_matrix"
      ],
      "execution_count": 13,
      "outputs": [
        {
          "output_type": "execute_result",
          "data": {
            "text/html": [
              "<div>\n",
              "<style scoped>\n",
              "    .dataframe tbody tr th:only-of-type {\n",
              "        vertical-align: middle;\n",
              "    }\n",
              "\n",
              "    .dataframe tbody tr th {\n",
              "        vertical-align: top;\n",
              "    }\n",
              "\n",
              "    .dataframe thead th {\n",
              "        text-align: right;\n",
              "    }\n",
              "</style>\n",
              "<table border=\"1\" class=\"dataframe\">\n",
              "  <thead>\n",
              "    <tr style=\"text-align: right;\">\n",
              "      <th></th>\n",
              "      <th>x-values</th>\n",
              "      <th>y-values</th>\n",
              "    </tr>\n",
              "  </thead>\n",
              "  <tbody>\n",
              "    <tr>\n",
              "      <th>x-values</th>\n",
              "      <td>1.00000</td>\n",
              "      <td>0.75864</td>\n",
              "    </tr>\n",
              "    <tr>\n",
              "      <th>y-values</th>\n",
              "      <td>0.75864</td>\n",
              "      <td>1.00000</td>\n",
              "    </tr>\n",
              "  </tbody>\n",
              "</table>\n",
              "</div>"
            ],
            "text/plain": [
              "          x-values  y-values\n",
              "x-values   1.00000   0.75864\n",
              "y-values   0.75864   1.00000"
            ]
          },
          "metadata": {},
          "execution_count": 13
        }
      ]
    },
    {
      "cell_type": "markdown",
      "metadata": {
        "id": "1CygSbnROb9V"
      },
      "source": [
        "OPTIONAL. Call the relevant method to calculate Spearman's rho correlation."
      ]
    },
    {
      "cell_type": "code",
      "metadata": {
        "id": "xp_QkXwmOlYY",
        "colab": {
          "base_uri": "https://localhost:8080/"
        },
        "outputId": "30fc408a-49b4-4bac-b879-2e8ee11ebae4"
      },
      "source": [
        "rho, p = scipy.stats.spearmanr(x, y)\n",
        "\n",
        "print(f\" rho= {rho}, p ={p}\")"
      ],
      "execution_count": 20,
      "outputs": [
        {
          "output_type": "stream",
          "name": "stdout",
          "text": [
            " rho= 0.9757575757575757, p =1.4675461874042197e-06\n"
          ]
        }
      ]
    },
    {
      "cell_type": "markdown",
      "metadata": {
        "id": "we7pg7kdOo7y"
      },
      "source": [
        "## Seaborn Dataset Tips"
      ]
    },
    {
      "cell_type": "markdown",
      "metadata": {
        "id": "VlzgFKN7OvqX"
      },
      "source": [
        "Import Seaborn Library"
      ]
    },
    {
      "cell_type": "code",
      "metadata": {
        "id": "t-49JRRqO4pw"
      },
      "source": [
        "import seaborn as sns"
      ],
      "execution_count": 21,
      "outputs": []
    },
    {
      "cell_type": "markdown",
      "metadata": {
        "id": "0INVBB4tO4y4"
      },
      "source": [
        "Load \"tips\" dataset from Seaborn"
      ]
    },
    {
      "cell_type": "code",
      "metadata": {
        "id": "kieLvcM1PBv7"
      },
      "source": [
        "tips = sns.load_dataset(\"tips\")"
      ],
      "execution_count": 22,
      "outputs": []
    },
    {
      "cell_type": "markdown",
      "metadata": {
        "id": "o2ISqVQrPh5S"
      },
      "source": [
        "Generate descriptive statistics include those that summarize the central tendency, dispersion"
      ]
    },
    {
      "cell_type": "code",
      "metadata": {
        "id": "FyFvmdbJPVg6",
        "colab": {
          "base_uri": "https://localhost:8080/",
          "height": 295
        },
        "outputId": "dd7f20e2-01ce-43eb-84c0-bbf1c074609a"
      },
      "source": [
        "tips.describe()"
      ],
      "execution_count": 23,
      "outputs": [
        {
          "output_type": "execute_result",
          "data": {
            "text/html": [
              "<div>\n",
              "<style scoped>\n",
              "    .dataframe tbody tr th:only-of-type {\n",
              "        vertical-align: middle;\n",
              "    }\n",
              "\n",
              "    .dataframe tbody tr th {\n",
              "        vertical-align: top;\n",
              "    }\n",
              "\n",
              "    .dataframe thead th {\n",
              "        text-align: right;\n",
              "    }\n",
              "</style>\n",
              "<table border=\"1\" class=\"dataframe\">\n",
              "  <thead>\n",
              "    <tr style=\"text-align: right;\">\n",
              "      <th></th>\n",
              "      <th>total_bill</th>\n",
              "      <th>tip</th>\n",
              "      <th>size</th>\n",
              "    </tr>\n",
              "  </thead>\n",
              "  <tbody>\n",
              "    <tr>\n",
              "      <th>count</th>\n",
              "      <td>244.000000</td>\n",
              "      <td>244.000000</td>\n",
              "      <td>244.000000</td>\n",
              "    </tr>\n",
              "    <tr>\n",
              "      <th>mean</th>\n",
              "      <td>19.785943</td>\n",
              "      <td>2.998279</td>\n",
              "      <td>2.569672</td>\n",
              "    </tr>\n",
              "    <tr>\n",
              "      <th>std</th>\n",
              "      <td>8.902412</td>\n",
              "      <td>1.383638</td>\n",
              "      <td>0.951100</td>\n",
              "    </tr>\n",
              "    <tr>\n",
              "      <th>min</th>\n",
              "      <td>3.070000</td>\n",
              "      <td>1.000000</td>\n",
              "      <td>1.000000</td>\n",
              "    </tr>\n",
              "    <tr>\n",
              "      <th>25%</th>\n",
              "      <td>13.347500</td>\n",
              "      <td>2.000000</td>\n",
              "      <td>2.000000</td>\n",
              "    </tr>\n",
              "    <tr>\n",
              "      <th>50%</th>\n",
              "      <td>17.795000</td>\n",
              "      <td>2.900000</td>\n",
              "      <td>2.000000</td>\n",
              "    </tr>\n",
              "    <tr>\n",
              "      <th>75%</th>\n",
              "      <td>24.127500</td>\n",
              "      <td>3.562500</td>\n",
              "      <td>3.000000</td>\n",
              "    </tr>\n",
              "    <tr>\n",
              "      <th>max</th>\n",
              "      <td>50.810000</td>\n",
              "      <td>10.000000</td>\n",
              "      <td>6.000000</td>\n",
              "    </tr>\n",
              "  </tbody>\n",
              "</table>\n",
              "</div>"
            ],
            "text/plain": [
              "       total_bill         tip        size\n",
              "count  244.000000  244.000000  244.000000\n",
              "mean    19.785943    2.998279    2.569672\n",
              "std      8.902412    1.383638    0.951100\n",
              "min      3.070000    1.000000    1.000000\n",
              "25%     13.347500    2.000000    2.000000\n",
              "50%     17.795000    2.900000    2.000000\n",
              "75%     24.127500    3.562500    3.000000\n",
              "max     50.810000   10.000000    6.000000"
            ]
          },
          "metadata": {},
          "execution_count": 23
        }
      ]
    },
    {
      "cell_type": "markdown",
      "metadata": {
        "id": "3yCRK4VJPzRo"
      },
      "source": [
        "Call the relevant method to calculate pairwise Pearson's r correlation of columns"
      ]
    },
    {
      "cell_type": "code",
      "metadata": {
        "id": "qwvGzDU8PGnM",
        "colab": {
          "base_uri": "https://localhost:8080/",
          "height": 142
        },
        "outputId": "e3abd00e-b8b3-4fea-f0e2-23f13aba68eb"
      },
      "source": [
        "corr_matrix = tips.corr()\n",
        "corr_matrix"
      ],
      "execution_count": 24,
      "outputs": [
        {
          "output_type": "execute_result",
          "data": {
            "text/html": [
              "<div>\n",
              "<style scoped>\n",
              "    .dataframe tbody tr th:only-of-type {\n",
              "        vertical-align: middle;\n",
              "    }\n",
              "\n",
              "    .dataframe tbody tr th {\n",
              "        vertical-align: top;\n",
              "    }\n",
              "\n",
              "    .dataframe thead th {\n",
              "        text-align: right;\n",
              "    }\n",
              "</style>\n",
              "<table border=\"1\" class=\"dataframe\">\n",
              "  <thead>\n",
              "    <tr style=\"text-align: right;\">\n",
              "      <th></th>\n",
              "      <th>total_bill</th>\n",
              "      <th>tip</th>\n",
              "      <th>size</th>\n",
              "    </tr>\n",
              "  </thead>\n",
              "  <tbody>\n",
              "    <tr>\n",
              "      <th>total_bill</th>\n",
              "      <td>1.000000</td>\n",
              "      <td>0.675734</td>\n",
              "      <td>0.598315</td>\n",
              "    </tr>\n",
              "    <tr>\n",
              "      <th>tip</th>\n",
              "      <td>0.675734</td>\n",
              "      <td>1.000000</td>\n",
              "      <td>0.489299</td>\n",
              "    </tr>\n",
              "    <tr>\n",
              "      <th>size</th>\n",
              "      <td>0.598315</td>\n",
              "      <td>0.489299</td>\n",
              "      <td>1.000000</td>\n",
              "    </tr>\n",
              "  </tbody>\n",
              "</table>\n",
              "</div>"
            ],
            "text/plain": [
              "            total_bill       tip      size\n",
              "total_bill    1.000000  0.675734  0.598315\n",
              "tip           0.675734  1.000000  0.489299\n",
              "size          0.598315  0.489299  1.000000"
            ]
          },
          "metadata": {},
          "execution_count": 24
        }
      ]
    }
  ]
}